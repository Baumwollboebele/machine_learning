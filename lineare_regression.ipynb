{
 "cells": [
  {
   "cell_type": "code",
   "execution_count": 1,
   "metadata": {},
   "outputs": [],
   "source": [
    "import numpy as np\n",
    "from sklearn.datasets import make_regression\n",
    "import matplotlib.pyplot as plt\n",
    "from mpl_toolkits.mplot3d import Axes3D\n",
    "import imageio\n",
    "import os"
   ]
  },
  {
   "cell_type": "code",
   "execution_count": 2,
   "metadata": {},
   "outputs": [
    {
     "data": {
      "text/plain": [
       "<matplotlib.collections.PathCollection at 0x137150b50>"
      ]
     },
     "execution_count": 2,
     "metadata": {},
     "output_type": "execute_result"
    },
    {
     "data": {
      "image/png": "[encoded data removed]",
      "text/plain": [
       "<Figure size 432x288 with 1 Axes>"
      ]
     },
     "metadata": {
      "needs_background": "light"
     },
     "output_type": "display_data"
    }
   ],
   "source": [
    "x ,y = make_regression(n_samples=100,n_features=1,bias=1,noise=12)\n",
    "x = np.ndarray.flatten(x)\n",
    "plt.scatter(x=x,y=y)"
   ]
  },
  {
   "cell_type": "code",
   "execution_count": null,
   "metadata": {},
   "outputs": [],
   "source": []
  },
  {
   "cell_type": "markdown",
   "metadata": {},
   "source": [
    "The function J fives us the Mean Squared Error (MSE) of the prediction.\n",
    "\n",
    "$ J = \\frac{1}{n}\\sum_{i=1}^n(y_i-\\hat{y}_i)^2$\n",
    "\n",
    "$ J = \\frac{1}{n}\\sum_{i=1}^n(x_i*w_0+w_1-\\hat{y}_i)^2$\n",
    "\n",
    "We need to minimize J, therefore we calculate the derivatives in the directions $w_0$ and $w_1$\n",
    "\n",
    "$\\frac{\\delta J}{\\delta w_0} = \\frac{2}{n}\\sum_{i=1}^n(x_i*w_0+w_1-\\hat{y}_i)*w_0$\n",
    "\n",
    "$\\frac{\\delta J}{\\delta w_1} = \\frac{2}{n}\\sum_{i=1}^n(x_i*w_0+w_1-\\hat{y}_i)$\n",
    "\n",
    "we then move \\alpha steps into the direction of the negative gradient of each weight, thus we refresh the weights as follows:\n",
    "\n",
    "$w_0 = w_0 - \\alpha*\\frac{\\delta J}{\\delta w_0} = w_0 - \\alpha*\\frac{2}{n}\\sum_{i=1}^n(x_i*w_0+w_1-\\hat{y}_i)*w_0$\n",
    "\n",
    "$w_1 = w_1 - \\alpha*\\frac{\\delta J}{\\delta w_1} = w_1 - \\alpha* \\frac{2}{n}\\sum_{i=1}^n(x_i*w_0+w_1-\\hat{y}_i)$\n",
    "\n",
    "\n",
    "We calculate the weights for every epoch until the weights converge.\n",
    "\n",
    "\n"
   ]
  },
  {
   "cell_type": "code",
   "execution_count": 3,
   "metadata": {},
   "outputs": [],
   "source": [
    "epochs=10\n",
    "w_0 = 0\n",
    "w_1 = 0\n",
    "alpha = 0.1"
   ]
  },
  {
   "cell_type": "code",
   "execution_count": 4,
   "metadata": {},
   "outputs": [
    {
     "data": {
      "image/png": "[encoded data removed]",
      "text/plain": [
       "<Figure size 432x288 with 1 Axes>"
      ]
     },
     "metadata": {
      "needs_background": "light"
     },
     "output_type": "display_data"
    }
   ],
   "source": [
    "for i in range(epochs):\n",
    "\n",
    "    dw = (2/len(x))*sum([(x_i*w_0+w_1-y_i)*x_i for x_i,y_i in zip(x,y)])\n",
    "    db = (2/len(x))*sum([(x_i*w_0+w_1-y_i) for x_i,y_i in zip(x,y)])\n",
    "\n",
    "    w_0 = w_0 - alpha*dw\n",
    "    w_1 = w_1 -alpha*db\n",
    "\n",
    "    line = plt.plot(x,[x_i*w_0+w_1 for x_i in x],\"m\")\n",
    "    plt.title(f\"Epoch: {i}\")\n",
    "    plt.scatter(x=x,y=y,c=\"g\")\n",
    "    plt.savefig(f\"media/linear_regression/fig_{i}\")\n",
    "    \n",
    "    line = line.pop(0)\n",
    "    line.remove()\n",
    "\n",
    "    \n"
   ]
  },
  {
   "cell_type": "code",
   "execution_count": 5,
   "metadata": {},
   "outputs": [],
   "source": [
    "png_dir = 'media/linear_regression/'\n",
    "images = []\n",
    "for file_name in sorted(os.listdir(png_dir)):\n",
    "    if file_name.endswith('.png'):\n",
    "        file_path = os.path.join(png_dir, file_name)\n",
    "        images.append(imageio.imread(file_path))\n",
    "imageio.mimsave('media/movie.gif', images, format=\"GIF\",fps=1)"
   ]
  },
  {
   "cell_type": "markdown",
   "metadata": {},
   "source": [
    "![SegmentLocal](media/movie.gif \"segment\")"
   ]
  }
 ],
 "metadata": {
  "interpreter": {
   "hash": "aee8b7b246df8f9039afb4144a1f6fd8d2ca17a180786b69acc140d282b71a49"
  },
  "kernelspec": {
   "display_name": "Python 3.9.7 64-bit",
   "language": "python",
   "name": "python3"
  },
  "language_info": {
   "codemirror_mode": {
    "name": "ipython",
    "version": 3
   },
   "file_extension": ".py",
   "mimetype": "text/x-python",
   "name": "python",
   "nbconvert_exporter": "python",
   "pygments_lexer": "ipython3",
   "version": "3.10.6"
  },
  "orig_nbformat": 4
 },
 "nbformat": 4,
 "nbformat_minor": 2
}
