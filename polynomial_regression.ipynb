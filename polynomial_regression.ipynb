{
 "metadata": {
  "language_info": {
   "codemirror_mode": {
    "name": "ipython",
    "version": 3
   },
   "file_extension": ".py",
   "mimetype": "text/x-python",
   "name": "python",
   "nbconvert_exporter": "python",
   "pygments_lexer": "ipython3",
   "version": "3.9.4"
  },
  "orig_nbformat": 2,
  "kernelspec": {
   "name": "python394jvsc74a57bd0cca9709ade13d1845170bf721b4f5aa5be8f7155f4e404d395c21441a7fc75f5",
   "display_name": "Python 3.9.4 64-bit"
  },
  "metadata": {
   "interpreter": {
    "hash": "cca9709ade13d1845170bf721b4f5aa5be8f7155f4e404d395c21441a7fc75f5"
   }
  }
 },
 "nbformat": 4,
 "nbformat_minor": 2,
 "cells": [
  {
   "cell_type": "code",
   "execution_count": 281,
   "metadata": {},
   "outputs": [],
   "source": [
    "#imports\n",
    "import seaborn as sns\n",
    "import numpy as np\n",
    "from math import sin"
   ]
  },
  {
   "cell_type": "code",
   "execution_count": 282,
   "metadata": {},
   "outputs": [],
   "source": [
    "def f_x3(x):\n",
    "    return ((1/4)*x**3)-(x**2)+((1/4)*x)+(3/2)\n",
    "\n",
    "def f_x2(x):\n",
    "    return x**2+x\n",
    "\n",
    "def sinus(x):\n",
    "    return sin(x)\n",
    "\n",
    "def data_generator(func,values = np.arange(-10,10,0.2),n=1):\n",
    "\n",
    "    x =[]\n",
    "    y =[]\n",
    "    for _ in range(n):\n",
    "        for j in values:\n",
    "            x.append(j)\n",
    "            y.append(func(j)+np.random.normal(func(j),0.1))\n",
    "    return [x,y]"
   ]
  },
  {
   "cell_type": "code",
   "execution_count": 283,
   "metadata": {},
   "outputs": [
    {
     "output_type": "execute_result",
     "data": {
      "text/plain": [
       "<AxesSubplot:>"
      ]
     },
     "metadata": {},
     "execution_count": 283
    },
    {
     "output_type": "display_data",
     "data": {
      "text/plain": "<Figure size 432x288 with 1 Axes>",
      "image/svg+xml": "<?xml version=\"1.0\" encoding=\"utf-8\" standalone=\"no\"?>\r\n<!DOCTYPE svg PUBLIC \"-//W3C//DTD SVG 1.1//EN\"\r\n  \"http://www.w3.org/Graphics/SVG/1.1/DTD/svg11.dtd\">\r\n<svg height=\"248.518125pt\" version=\"1.1\" viewBox=\"0 0 370.942187 248.518125\" width=\"370.942187pt\" xmlns=\"http://www.w3.org/2000/svg\" xmlns:xlink=\"http://www.w3.org/1999/xlink\">\r\n <metadata>\r\n  <rdf:RDF xmlns:cc=\"http://creativecommons.org/ns#\" xmlns:dc=\"http://purl.org/dc/elements/1.1/\" xmlns:rdf=\"http://www.w3.org/1999/02/22-rdf-syntax-ns#\">\r\n   <cc:Work>\r\n    <dc:type rdf:resource=\"http://purl.org/dc/dcmitype/StillImage\"/>\r\n    <dc:date>2021-05-30T23:39:50.246798</dc:date>\r\n    <dc:format>image/svg+xml</dc:format>\r\n    <dc:creator>\r\n     <cc:Agent>\r\n      <dc:title>Matplotlib v3.4.1, https://matplotlib.org/</dc:title>\r\n     </cc:Agent>\r\n    </dc:creator>\r\n   </cc:Work>\r\n  </rdf:RDF>\r\n </metadata>\r\n <defs>\r\n  <style type=\"text/css\">*{stroke-linecap:butt;stroke-linejoin:round;}</style>\r\n </defs>\r\n <g id=\"figure_1\">\r\n  <g id=\"patch_1\">\r\n   <path d=\"M 0 248.518125 \r\nL 370.942187 248.518125 \r\nL 370.942187 0 \r\nL 0 0 \r\nz\r\n\" style=\"fill:none;\"/>\r\n  </g>\r\n  <g id=\"axes_1\">\r\n   <g id=\"patch_2\">\r\n    <path d=\"M 28.942188 224.64 \r\nL 363.742188 224.64 \r\nL 363.742188 7.2 \r\nL 28.942188 7.2 \r\nz\r\n\" style=\"fill:#ffffff;\"/>\r\n   </g>\r\n   <g id=\"PathCollection_1\">\r\n    <defs>\r\n     <path d=\"M 0 3 \r\nC 0.795609 3 1.55874 2.683901 2.12132 2.12132 \r\nC 2.683901 1.55874 3 0.795609 3 0 \r\nC 3 -0.795609 2.683901 -1.55874 2.12132 -2.12132 \r\nC 1.55874 -2.683901 0.795609 -3 0 -3 \r\nC -0.795609 -3 -1.55874 -2.683901 -2.12132 -2.12132 \r\nC -2.683901 -1.55874 -3 -0.795609 -3 0 \r\nC -3 0.795609 -2.683901 1.55874 -2.12132 2.12132 \r\nC -1.55874 2.683901 -0.795609 3 0 3 \r\nz\r\n\" id=\"m62bfd52c2c\" style=\"stroke:#ffffff;stroke-width:0.48;\"/>\r\n    </defs>\r\n    <g clip-path=\"url(#p2ca64a5db4)\">\r\n     <use style=\"fill:#1f77b4;stroke:#ffffff;stroke-width:0.48;\" x=\"44.160369\" xlink:href=\"#m62bfd52c2c\" y=\"60.991465\"/>\r\n     <use style=\"fill:#1f77b4;stroke:#ffffff;stroke-width:0.48;\" x=\"47.234749\" xlink:href=\"#m62bfd52c2c\" y=\"72.363437\"/>\r\n     <use style=\"fill:#1f77b4;stroke:#ffffff;stroke-width:0.48;\" x=\"50.30913\" xlink:href=\"#m62bfd52c2c\" y=\"90.098061\"/>\r\n     <use style=\"fill:#1f77b4;stroke:#ffffff;stroke-width:0.48;\" x=\"53.38351\" xlink:href=\"#m62bfd52c2c\" y=\"106.992451\"/>\r\n     <use style=\"fill:#1f77b4;stroke:#ffffff;stroke-width:0.48;\" x=\"56.45789\" xlink:href=\"#m62bfd52c2c\" y=\"134.09084\"/>\r\n     <use style=\"fill:#1f77b4;stroke:#ffffff;stroke-width:0.48;\" x=\"59.53227\" xlink:href=\"#m62bfd52c2c\" y=\"143.644303\"/>\r\n     <use style=\"fill:#1f77b4;stroke:#ffffff;stroke-width:0.48;\" x=\"62.60665\" xlink:href=\"#m62bfd52c2c\" y=\"164.131313\"/>\r\n     <use style=\"fill:#1f77b4;stroke:#ffffff;stroke-width:0.48;\" x=\"65.68103\" xlink:href=\"#m62bfd52c2c\" y=\"171.877782\"/>\r\n     <use style=\"fill:#1f77b4;stroke:#ffffff;stroke-width:0.48;\" x=\"68.755411\" xlink:href=\"#m62bfd52c2c\" y=\"180.917742\"/>\r\n     <use style=\"fill:#1f77b4;stroke:#ffffff;stroke-width:0.48;\" x=\"71.829791\" xlink:href=\"#m62bfd52c2c\" y=\"196.4463\"/>\r\n     <use style=\"fill:#1f77b4;stroke:#ffffff;stroke-width:0.48;\" x=\"74.904171\" xlink:href=\"#m62bfd52c2c\" y=\"205.851354\"/>\r\n     <use style=\"fill:#1f77b4;stroke:#ffffff;stroke-width:0.48;\" x=\"77.978551\" xlink:href=\"#m62bfd52c2c\" y=\"201.614939\"/>\r\n     <use style=\"fill:#1f77b4;stroke:#ffffff;stroke-width:0.48;\" x=\"81.052931\" xlink:href=\"#m62bfd52c2c\" y=\"198.286669\"/>\r\n     <use style=\"fill:#1f77b4;stroke:#ffffff;stroke-width:0.48;\" x=\"84.127311\" xlink:href=\"#m62bfd52c2c\" y=\"195.215675\"/>\r\n     <use style=\"fill:#1f77b4;stroke:#ffffff;stroke-width:0.48;\" x=\"87.201692\" xlink:href=\"#m62bfd52c2c\" y=\"181.894357\"/>\r\n     <use style=\"fill:#1f77b4;stroke:#ffffff;stroke-width:0.48;\" x=\"90.276072\" xlink:href=\"#m62bfd52c2c\" y=\"171.078073\"/>\r\n     <use style=\"fill:#1f77b4;stroke:#ffffff;stroke-width:0.48;\" x=\"93.350452\" xlink:href=\"#m62bfd52c2c\" y=\"152.699676\"/>\r\n     <use style=\"fill:#1f77b4;stroke:#ffffff;stroke-width:0.48;\" x=\"96.424832\" xlink:href=\"#m62bfd52c2c\" y=\"130.579196\"/>\r\n     <use style=\"fill:#1f77b4;stroke:#ffffff;stroke-width:0.48;\" x=\"99.499212\" xlink:href=\"#m62bfd52c2c\" y=\"121.803574\"/>\r\n     <use style=\"fill:#1f77b4;stroke:#ffffff;stroke-width:0.48;\" x=\"102.573592\" xlink:href=\"#m62bfd52c2c\" y=\"104.985755\"/>\r\n     <use style=\"fill:#1f77b4;stroke:#ffffff;stroke-width:0.48;\" x=\"105.647973\" xlink:href=\"#m62bfd52c2c\" y=\"81.616075\"/>\r\n     <use style=\"fill:#1f77b4;stroke:#ffffff;stroke-width:0.48;\" x=\"108.722353\" xlink:href=\"#m62bfd52c2c\" y=\"66.73263\"/>\r\n     <use style=\"fill:#1f77b4;stroke:#ffffff;stroke-width:0.48;\" x=\"111.796733\" xlink:href=\"#m62bfd52c2c\" y=\"51.863042\"/>\r\n     <use style=\"fill:#1f77b4;stroke:#ffffff;stroke-width:0.48;\" x=\"114.871113\" xlink:href=\"#m62bfd52c2c\" y=\"41.480786\"/>\r\n     <use style=\"fill:#1f77b4;stroke:#ffffff;stroke-width:0.48;\" x=\"117.945493\" xlink:href=\"#m62bfd52c2c\" y=\"27.819902\"/>\r\n     <use style=\"fill:#1f77b4;stroke:#ffffff;stroke-width:0.48;\" x=\"121.019873\" xlink:href=\"#m62bfd52c2c\" y=\"17.083636\"/>\r\n     <use style=\"fill:#1f77b4;stroke:#ffffff;stroke-width:0.48;\" x=\"124.094254\" xlink:href=\"#m62bfd52c2c\" y=\"24.06394\"/>\r\n     <use style=\"fill:#1f77b4;stroke:#ffffff;stroke-width:0.48;\" x=\"127.168634\" xlink:href=\"#m62bfd52c2c\" y=\"19.805764\"/>\r\n     <use style=\"fill:#1f77b4;stroke:#ffffff;stroke-width:0.48;\" x=\"130.243014\" xlink:href=\"#m62bfd52c2c\" y=\"29.628731\"/>\r\n     <use style=\"fill:#1f77b4;stroke:#ffffff;stroke-width:0.48;\" x=\"133.317394\" xlink:href=\"#m62bfd52c2c\" y=\"34.42437\"/>\r\n     <use style=\"fill:#1f77b4;stroke:#ffffff;stroke-width:0.48;\" x=\"136.391774\" xlink:href=\"#m62bfd52c2c\" y=\"43.696167\"/>\r\n     <use style=\"fill:#1f77b4;stroke:#ffffff;stroke-width:0.48;\" x=\"139.466154\" xlink:href=\"#m62bfd52c2c\" y=\"57.153603\"/>\r\n     <use style=\"fill:#1f77b4;stroke:#ffffff;stroke-width:0.48;\" x=\"142.540535\" xlink:href=\"#m62bfd52c2c\" y=\"83.405532\"/>\r\n     <use style=\"fill:#1f77b4;stroke:#ffffff;stroke-width:0.48;\" x=\"145.614915\" xlink:href=\"#m62bfd52c2c\" y=\"92.083274\"/>\r\n     <use style=\"fill:#1f77b4;stroke:#ffffff;stroke-width:0.48;\" x=\"148.689295\" xlink:href=\"#m62bfd52c2c\" y=\"113.610937\"/>\r\n     <use style=\"fill:#1f77b4;stroke:#ffffff;stroke-width:0.48;\" x=\"151.763675\" xlink:href=\"#m62bfd52c2c\" y=\"120.783445\"/>\r\n     <use style=\"fill:#1f77b4;stroke:#ffffff;stroke-width:0.48;\" x=\"154.838055\" xlink:href=\"#m62bfd52c2c\" y=\"138.216287\"/>\r\n     <use style=\"fill:#1f77b4;stroke:#ffffff;stroke-width:0.48;\" x=\"157.912435\" xlink:href=\"#m62bfd52c2c\" y=\"157.774216\"/>\r\n     <use style=\"fill:#1f77b4;stroke:#ffffff;stroke-width:0.48;\" x=\"160.986816\" xlink:href=\"#m62bfd52c2c\" y=\"164.7946\"/>\r\n     <use style=\"fill:#1f77b4;stroke:#ffffff;stroke-width:0.48;\" x=\"164.061196\" xlink:href=\"#m62bfd52c2c\" y=\"178.419754\"/>\r\n     <use style=\"fill:#1f77b4;stroke:#ffffff;stroke-width:0.48;\" x=\"167.135576\" xlink:href=\"#m62bfd52c2c\" y=\"189.174312\"/>\r\n     <use style=\"fill:#1f77b4;stroke:#ffffff;stroke-width:0.48;\" x=\"170.209956\" xlink:href=\"#m62bfd52c2c\" y=\"197.014485\"/>\r\n     <use style=\"fill:#1f77b4;stroke:#ffffff;stroke-width:0.48;\" x=\"173.284336\" xlink:href=\"#m62bfd52c2c\" y=\"214.756364\"/>\r\n     <use style=\"fill:#1f77b4;stroke:#ffffff;stroke-width:0.48;\" x=\"176.358716\" xlink:href=\"#m62bfd52c2c\" y=\"210.170082\"/>\r\n     <use style=\"fill:#1f77b4;stroke:#ffffff;stroke-width:0.48;\" x=\"179.433097\" xlink:href=\"#m62bfd52c2c\" y=\"198.199163\"/>\r\n     <use style=\"fill:#1f77b4;stroke:#ffffff;stroke-width:0.48;\" x=\"182.507477\" xlink:href=\"#m62bfd52c2c\" y=\"191.390547\"/>\r\n     <use style=\"fill:#1f77b4;stroke:#ffffff;stroke-width:0.48;\" x=\"185.581857\" xlink:href=\"#m62bfd52c2c\" y=\"182.346595\"/>\r\n     <use style=\"fill:#1f77b4;stroke:#ffffff;stroke-width:0.48;\" x=\"188.656237\" xlink:href=\"#m62bfd52c2c\" y=\"160.921286\"/>\r\n     <use style=\"fill:#1f77b4;stroke:#ffffff;stroke-width:0.48;\" x=\"191.730617\" xlink:href=\"#m62bfd52c2c\" y=\"140.060927\"/>\r\n     <use style=\"fill:#1f77b4;stroke:#ffffff;stroke-width:0.48;\" x=\"194.804997\" xlink:href=\"#m62bfd52c2c\" y=\"135.55915\"/>\r\n     <use style=\"fill:#1f77b4;stroke:#ffffff;stroke-width:0.48;\" x=\"197.879378\" xlink:href=\"#m62bfd52c2c\" y=\"101.606846\"/>\r\n     <use style=\"fill:#1f77b4;stroke:#ffffff;stroke-width:0.48;\" x=\"200.953758\" xlink:href=\"#m62bfd52c2c\" y=\"85.073594\"/>\r\n     <use style=\"fill:#1f77b4;stroke:#ffffff;stroke-width:0.48;\" x=\"204.028138\" xlink:href=\"#m62bfd52c2c\" y=\"82.703187\"/>\r\n     <use style=\"fill:#1f77b4;stroke:#ffffff;stroke-width:0.48;\" x=\"207.102518\" xlink:href=\"#m62bfd52c2c\" y=\"57.730256\"/>\r\n     <use style=\"fill:#1f77b4;stroke:#ffffff;stroke-width:0.48;\" x=\"210.176898\" xlink:href=\"#m62bfd52c2c\" y=\"46.511491\"/>\r\n     <use style=\"fill:#1f77b4;stroke:#ffffff;stroke-width:0.48;\" x=\"213.251278\" xlink:href=\"#m62bfd52c2c\" y=\"29.284109\"/>\r\n     <use style=\"fill:#1f77b4;stroke:#ffffff;stroke-width:0.48;\" x=\"216.325659\" xlink:href=\"#m62bfd52c2c\" y=\"24.863861\"/>\r\n     <use style=\"fill:#1f77b4;stroke:#ffffff;stroke-width:0.48;\" x=\"219.400039\" xlink:href=\"#m62bfd52c2c\" y=\"26.785444\"/>\r\n     <use style=\"fill:#1f77b4;stroke:#ffffff;stroke-width:0.48;\" x=\"222.474419\" xlink:href=\"#m62bfd52c2c\" y=\"21.600826\"/>\r\n     <use style=\"fill:#1f77b4;stroke:#ffffff;stroke-width:0.48;\" x=\"225.548799\" xlink:href=\"#m62bfd52c2c\" y=\"25.939751\"/>\r\n     <use style=\"fill:#1f77b4;stroke:#ffffff;stroke-width:0.48;\" x=\"228.623179\" xlink:href=\"#m62bfd52c2c\" y=\"26.466694\"/>\r\n     <use style=\"fill:#1f77b4;stroke:#ffffff;stroke-width:0.48;\" x=\"231.697559\" xlink:href=\"#m62bfd52c2c\" y=\"36.946331\"/>\r\n     <use style=\"fill:#1f77b4;stroke:#ffffff;stroke-width:0.48;\" x=\"234.77194\" xlink:href=\"#m62bfd52c2c\" y=\"59.388708\"/>\r\n     <use style=\"fill:#1f77b4;stroke:#ffffff;stroke-width:0.48;\" x=\"237.84632\" xlink:href=\"#m62bfd52c2c\" y=\"64.016587\"/>\r\n     <use style=\"fill:#1f77b4;stroke:#ffffff;stroke-width:0.48;\" x=\"240.9207\" xlink:href=\"#m62bfd52c2c\" y=\"80.537003\"/>\r\n     <use style=\"fill:#1f77b4;stroke:#ffffff;stroke-width:0.48;\" x=\"243.99508\" xlink:href=\"#m62bfd52c2c\" y=\"102.745238\"/>\r\n     <use style=\"fill:#1f77b4;stroke:#ffffff;stroke-width:0.48;\" x=\"247.06946\" xlink:href=\"#m62bfd52c2c\" y=\"120.300292\"/>\r\n     <use style=\"fill:#1f77b4;stroke:#ffffff;stroke-width:0.48;\" x=\"250.14384\" xlink:href=\"#m62bfd52c2c\" y=\"125.941385\"/>\r\n     <use style=\"fill:#1f77b4;stroke:#ffffff;stroke-width:0.48;\" x=\"253.218221\" xlink:href=\"#m62bfd52c2c\" y=\"152.802805\"/>\r\n     <use style=\"fill:#1f77b4;stroke:#ffffff;stroke-width:0.48;\" x=\"256.292601\" xlink:href=\"#m62bfd52c2c\" y=\"167.39867\"/>\r\n     <use style=\"fill:#1f77b4;stroke:#ffffff;stroke-width:0.48;\" x=\"259.366981\" xlink:href=\"#m62bfd52c2c\" y=\"183.143148\"/>\r\n     <use style=\"fill:#1f77b4;stroke:#ffffff;stroke-width:0.48;\" x=\"262.441361\" xlink:href=\"#m62bfd52c2c\" y=\"190.777394\"/>\r\n     <use style=\"fill:#1f77b4;stroke:#ffffff;stroke-width:0.48;\" x=\"265.515741\" xlink:href=\"#m62bfd52c2c\" y=\"189.676359\"/>\r\n     <use style=\"fill:#1f77b4;stroke:#ffffff;stroke-width:0.48;\" x=\"268.590121\" xlink:href=\"#m62bfd52c2c\" y=\"198.632166\"/>\r\n     <use style=\"fill:#1f77b4;stroke:#ffffff;stroke-width:0.48;\" x=\"271.664502\" xlink:href=\"#m62bfd52c2c\" y=\"200.998499\"/>\r\n     <use style=\"fill:#1f77b4;stroke:#ffffff;stroke-width:0.48;\" x=\"274.738882\" xlink:href=\"#m62bfd52c2c\" y=\"193.468661\"/>\r\n     <use style=\"fill:#1f77b4;stroke:#ffffff;stroke-width:0.48;\" x=\"277.813262\" xlink:href=\"#m62bfd52c2c\" y=\"190.105482\"/>\r\n     <use style=\"fill:#1f77b4;stroke:#ffffff;stroke-width:0.48;\" x=\"280.887642\" xlink:href=\"#m62bfd52c2c\" y=\"186.221337\"/>\r\n     <use style=\"fill:#1f77b4;stroke:#ffffff;stroke-width:0.48;\" x=\"283.962022\" xlink:href=\"#m62bfd52c2c\" y=\"173.334135\"/>\r\n     <use style=\"fill:#1f77b4;stroke:#ffffff;stroke-width:0.48;\" x=\"287.036402\" xlink:href=\"#m62bfd52c2c\" y=\"151.902918\"/>\r\n     <use style=\"fill:#1f77b4;stroke:#ffffff;stroke-width:0.48;\" x=\"290.110783\" xlink:href=\"#m62bfd52c2c\" y=\"127.686591\"/>\r\n     <use style=\"fill:#1f77b4;stroke:#ffffff;stroke-width:0.48;\" x=\"293.185163\" xlink:href=\"#m62bfd52c2c\" y=\"115.759708\"/>\r\n     <use style=\"fill:#1f77b4;stroke:#ffffff;stroke-width:0.48;\" x=\"296.259543\" xlink:href=\"#m62bfd52c2c\" y=\"96.997484\"/>\r\n     <use style=\"fill:#1f77b4;stroke:#ffffff;stroke-width:0.48;\" x=\"299.333923\" xlink:href=\"#m62bfd52c2c\" y=\"81.81056\"/>\r\n     <use style=\"fill:#1f77b4;stroke:#ffffff;stroke-width:0.48;\" x=\"302.408303\" xlink:href=\"#m62bfd52c2c\" y=\"61.341594\"/>\r\n     <use style=\"fill:#1f77b4;stroke:#ffffff;stroke-width:0.48;\" x=\"305.482683\" xlink:href=\"#m62bfd52c2c\" y=\"55.008104\"/>\r\n     <use style=\"fill:#1f77b4;stroke:#ffffff;stroke-width:0.48;\" x=\"308.557064\" xlink:href=\"#m62bfd52c2c\" y=\"26.010228\"/>\r\n     <use style=\"fill:#1f77b4;stroke:#ffffff;stroke-width:0.48;\" x=\"311.631444\" xlink:href=\"#m62bfd52c2c\" y=\"32.800723\"/>\r\n     <use style=\"fill:#1f77b4;stroke:#ffffff;stroke-width:0.48;\" x=\"314.705824\" xlink:href=\"#m62bfd52c2c\" y=\"24.912614\"/>\r\n     <use style=\"fill:#1f77b4;stroke:#ffffff;stroke-width:0.48;\" x=\"317.780204\" xlink:href=\"#m62bfd52c2c\" y=\"17.769104\"/>\r\n     <use style=\"fill:#1f77b4;stroke:#ffffff;stroke-width:0.48;\" x=\"320.854584\" xlink:href=\"#m62bfd52c2c\" y=\"22.659249\"/>\r\n     <use style=\"fill:#1f77b4;stroke:#ffffff;stroke-width:0.48;\" x=\"323.928964\" xlink:href=\"#m62bfd52c2c\" y=\"27.288706\"/>\r\n     <use style=\"fill:#1f77b4;stroke:#ffffff;stroke-width:0.48;\" x=\"327.003345\" xlink:href=\"#m62bfd52c2c\" y=\"32.800391\"/>\r\n     <use style=\"fill:#1f77b4;stroke:#ffffff;stroke-width:0.48;\" x=\"330.077725\" xlink:href=\"#m62bfd52c2c\" y=\"50.503121\"/>\r\n     <use style=\"fill:#1f77b4;stroke:#ffffff;stroke-width:0.48;\" x=\"333.152105\" xlink:href=\"#m62bfd52c2c\" y=\"61.841736\"/>\r\n     <use style=\"fill:#1f77b4;stroke:#ffffff;stroke-width:0.48;\" x=\"336.226485\" xlink:href=\"#m62bfd52c2c\" y=\"76.903863\"/>\r\n     <use style=\"fill:#1f77b4;stroke:#ffffff;stroke-width:0.48;\" x=\"339.300865\" xlink:href=\"#m62bfd52c2c\" y=\"85.561105\"/>\r\n     <use style=\"fill:#1f77b4;stroke:#ffffff;stroke-width:0.48;\" x=\"342.375245\" xlink:href=\"#m62bfd52c2c\" y=\"111.271873\"/>\r\n     <use style=\"fill:#1f77b4;stroke:#ffffff;stroke-width:0.48;\" x=\"345.449626\" xlink:href=\"#m62bfd52c2c\" y=\"131.133795\"/>\r\n     <use style=\"fill:#1f77b4;stroke:#ffffff;stroke-width:0.48;\" x=\"348.524006\" xlink:href=\"#m62bfd52c2c\" y=\"135.622603\"/>\r\n    </g>\r\n   </g>\r\n   <g id=\"matplotlib.axis_1\">\r\n    <g id=\"xtick_1\">\r\n     <g id=\"line2d_1\">\r\n      <defs>\r\n       <path d=\"M 0 0 \r\nL 0 3.5 \r\n\" id=\"md51aabe7d1\" style=\"stroke:#000000;stroke-width:0.8;\"/>\r\n      </defs>\r\n      <g>\r\n       <use style=\"stroke:#000000;stroke-width:0.8;\" x=\"44.160369\" xlink:href=\"#md51aabe7d1\" y=\"224.64\"/>\r\n      </g>\r\n     </g>\r\n     <g id=\"text_1\">\r\n      <!-- −10.0 -->\r\n      <g transform=\"translate(28.837713 239.238437)scale(0.1 -0.1)\">\r\n       <defs>\r\n        <path d=\"M 678 2272 \r\nL 4684 2272 \r\nL 4684 1741 \r\nL 678 1741 \r\nL 678 2272 \r\nz\r\n\" id=\"DejaVuSans-2212\" transform=\"scale(0.015625)\"/>\r\n        <path d=\"M 794 531 \r\nL 1825 531 \r\nL 1825 4091 \r\nL 703 3866 \r\nL 703 4441 \r\nL 1819 4666 \r\nL 2450 4666 \r\nL 2450 531 \r\nL 3481 531 \r\nL 3481 0 \r\nL 794 0 \r\nL 794 531 \r\nz\r\n\" id=\"DejaVuSans-31\" transform=\"scale(0.015625)\"/>\r\n        <path d=\"M 2034 4250 \r\nQ 1547 4250 1301 3770 \r\nQ 1056 3291 1056 2328 \r\nQ 1056 1369 1301 889 \r\nQ 1547 409 2034 409 \r\nQ 2525 409 2770 889 \r\nQ 3016 1369 3016 2328 \r\nQ 3016 3291 2770 3770 \r\nQ 2525 4250 2034 4250 \r\nz\r\nM 2034 4750 \r\nQ 2819 4750 3233 4129 \r\nQ 3647 3509 3647 2328 \r\nQ 3647 1150 3233 529 \r\nQ 2819 -91 2034 -91 \r\nQ 1250 -91 836 529 \r\nQ 422 1150 422 2328 \r\nQ 422 3509 836 4129 \r\nQ 1250 4750 2034 4750 \r\nz\r\n\" id=\"DejaVuSans-30\" transform=\"scale(0.015625)\"/>\r\n        <path d=\"M 684 794 \r\nL 1344 794 \r\nL 1344 0 \r\nL 684 0 \r\nL 684 794 \r\nz\r\n\" id=\"DejaVuSans-2e\" transform=\"scale(0.015625)\"/>\r\n       </defs>\r\n       <use xlink:href=\"#DejaVuSans-2212\"/>\r\n       <use x=\"83.789062\" xlink:href=\"#DejaVuSans-31\"/>\r\n       <use x=\"147.412109\" xlink:href=\"#DejaVuSans-30\"/>\r\n       <use x=\"211.035156\" xlink:href=\"#DejaVuSans-2e\"/>\r\n       <use x=\"242.822266\" xlink:href=\"#DejaVuSans-30\"/>\r\n      </g>\r\n     </g>\r\n    </g>\r\n    <g id=\"xtick_2\">\r\n     <g id=\"line2d_2\">\r\n      <g>\r\n       <use style=\"stroke:#000000;stroke-width:0.8;\" x=\"82.590121\" xlink:href=\"#md51aabe7d1\" y=\"224.64\"/>\r\n      </g>\r\n     </g>\r\n     <g id=\"text_2\">\r\n      <!-- −7.5 -->\r\n      <g transform=\"translate(70.448715 239.238437)scale(0.1 -0.1)\">\r\n       <defs>\r\n        <path d=\"M 525 4666 \r\nL 3525 4666 \r\nL 3525 4397 \r\nL 1831 0 \r\nL 1172 0 \r\nL 2766 4134 \r\nL 525 4134 \r\nL 525 4666 \r\nz\r\n\" id=\"DejaVuSans-37\" transform=\"scale(0.015625)\"/>\r\n        <path d=\"M 691 4666 \r\nL 3169 4666 \r\nL 3169 4134 \r\nL 1269 4134 \r\nL 1269 2991 \r\nQ 1406 3038 1543 3061 \r\nQ 1681 3084 1819 3084 \r\nQ 2600 3084 3056 2656 \r\nQ 3513 2228 3513 1497 \r\nQ 3513 744 3044 326 \r\nQ 2575 -91 1722 -91 \r\nQ 1428 -91 1123 -41 \r\nQ 819 9 494 109 \r\nL 494 744 \r\nQ 775 591 1075 516 \r\nQ 1375 441 1709 441 \r\nQ 2250 441 2565 725 \r\nQ 2881 1009 2881 1497 \r\nQ 2881 1984 2565 2268 \r\nQ 2250 2553 1709 2553 \r\nQ 1456 2553 1204 2497 \r\nQ 953 2441 691 2322 \r\nL 691 4666 \r\nz\r\n\" id=\"DejaVuSans-35\" transform=\"scale(0.015625)\"/>\r\n       </defs>\r\n       <use xlink:href=\"#DejaVuSans-2212\"/>\r\n       <use x=\"83.789062\" xlink:href=\"#DejaVuSans-37\"/>\r\n       <use x=\"147.412109\" xlink:href=\"#DejaVuSans-2e\"/>\r\n       <use x=\"179.199219\" xlink:href=\"#DejaVuSans-35\"/>\r\n      </g>\r\n     </g>\r\n    </g>\r\n    <g id=\"xtick_3\">\r\n     <g id=\"line2d_3\">\r\n      <g>\r\n       <use style=\"stroke:#000000;stroke-width:0.8;\" x=\"121.019873\" xlink:href=\"#md51aabe7d1\" y=\"224.64\"/>\r\n      </g>\r\n     </g>\r\n     <g id=\"text_3\">\r\n      <!-- −5.0 -->\r\n      <g transform=\"translate(108.878467 239.238437)scale(0.1 -0.1)\">\r\n       <use xlink:href=\"#DejaVuSans-2212\"/>\r\n       <use x=\"83.789062\" xlink:href=\"#DejaVuSans-35\"/>\r\n       <use x=\"147.412109\" xlink:href=\"#DejaVuSans-2e\"/>\r\n       <use x=\"179.199219\" xlink:href=\"#DejaVuSans-30\"/>\r\n      </g>\r\n     </g>\r\n    </g>\r\n    <g id=\"xtick_4\">\r\n     <g id=\"line2d_4\">\r\n      <g>\r\n       <use style=\"stroke:#000000;stroke-width:0.8;\" x=\"159.449626\" xlink:href=\"#md51aabe7d1\" y=\"224.64\"/>\r\n      </g>\r\n     </g>\r\n     <g id=\"text_4\">\r\n      <!-- −2.5 -->\r\n      <g transform=\"translate(147.308219 239.238437)scale(0.1 -0.1)\">\r\n       <defs>\r\n        <path d=\"M 1228 531 \r\nL 3431 531 \r\nL 3431 0 \r\nL 469 0 \r\nL 469 531 \r\nQ 828 903 1448 1529 \r\nQ 2069 2156 2228 2338 \r\nQ 2531 2678 2651 2914 \r\nQ 2772 3150 2772 3378 \r\nQ 2772 3750 2511 3984 \r\nQ 2250 4219 1831 4219 \r\nQ 1534 4219 1204 4116 \r\nQ 875 4013 500 3803 \r\nL 500 4441 \r\nQ 881 4594 1212 4672 \r\nQ 1544 4750 1819 4750 \r\nQ 2544 4750 2975 4387 \r\nQ 3406 4025 3406 3419 \r\nQ 3406 3131 3298 2873 \r\nQ 3191 2616 2906 2266 \r\nQ 2828 2175 2409 1742 \r\nQ 1991 1309 1228 531 \r\nz\r\n\" id=\"DejaVuSans-32\" transform=\"scale(0.015625)\"/>\r\n       </defs>\r\n       <use xlink:href=\"#DejaVuSans-2212\"/>\r\n       <use x=\"83.789062\" xlink:href=\"#DejaVuSans-32\"/>\r\n       <use x=\"147.412109\" xlink:href=\"#DejaVuSans-2e\"/>\r\n       <use x=\"179.199219\" xlink:href=\"#DejaVuSans-35\"/>\r\n      </g>\r\n     </g>\r\n    </g>\r\n    <g id=\"xtick_5\">\r\n     <g id=\"line2d_5\">\r\n      <g>\r\n       <use style=\"stroke:#000000;stroke-width:0.8;\" x=\"197.879378\" xlink:href=\"#md51aabe7d1\" y=\"224.64\"/>\r\n      </g>\r\n     </g>\r\n     <g id=\"text_5\">\r\n      <!-- 0.0 -->\r\n      <g transform=\"translate(189.927815 239.238437)scale(0.1 -0.1)\">\r\n       <use xlink:href=\"#DejaVuSans-30\"/>\r\n       <use x=\"63.623047\" xlink:href=\"#DejaVuSans-2e\"/>\r\n       <use x=\"95.410156\" xlink:href=\"#DejaVuSans-30\"/>\r\n      </g>\r\n     </g>\r\n    </g>\r\n    <g id=\"xtick_6\">\r\n     <g id=\"line2d_6\">\r\n      <g>\r\n       <use style=\"stroke:#000000;stroke-width:0.8;\" x=\"236.30913\" xlink:href=\"#md51aabe7d1\" y=\"224.64\"/>\r\n      </g>\r\n     </g>\r\n     <g id=\"text_6\">\r\n      <!-- 2.5 -->\r\n      <g transform=\"translate(228.357567 239.238437)scale(0.1 -0.1)\">\r\n       <use xlink:href=\"#DejaVuSans-32\"/>\r\n       <use x=\"63.623047\" xlink:href=\"#DejaVuSans-2e\"/>\r\n       <use x=\"95.410156\" xlink:href=\"#DejaVuSans-35\"/>\r\n      </g>\r\n     </g>\r\n    </g>\r\n    <g id=\"xtick_7\">\r\n     <g id=\"line2d_7\">\r\n      <g>\r\n       <use style=\"stroke:#000000;stroke-width:0.8;\" x=\"274.738882\" xlink:href=\"#md51aabe7d1\" y=\"224.64\"/>\r\n      </g>\r\n     </g>\r\n     <g id=\"text_7\">\r\n      <!-- 5.0 -->\r\n      <g transform=\"translate(266.787319 239.238437)scale(0.1 -0.1)\">\r\n       <use xlink:href=\"#DejaVuSans-35\"/>\r\n       <use x=\"63.623047\" xlink:href=\"#DejaVuSans-2e\"/>\r\n       <use x=\"95.410156\" xlink:href=\"#DejaVuSans-30\"/>\r\n      </g>\r\n     </g>\r\n    </g>\r\n    <g id=\"xtick_8\">\r\n     <g id=\"line2d_8\">\r\n      <g>\r\n       <use style=\"stroke:#000000;stroke-width:0.8;\" x=\"313.168634\" xlink:href=\"#md51aabe7d1\" y=\"224.64\"/>\r\n      </g>\r\n     </g>\r\n     <g id=\"text_8\">\r\n      <!-- 7.5 -->\r\n      <g transform=\"translate(305.217071 239.238437)scale(0.1 -0.1)\">\r\n       <use xlink:href=\"#DejaVuSans-37\"/>\r\n       <use x=\"63.623047\" xlink:href=\"#DejaVuSans-2e\"/>\r\n       <use x=\"95.410156\" xlink:href=\"#DejaVuSans-35\"/>\r\n      </g>\r\n     </g>\r\n    </g>\r\n    <g id=\"xtick_9\">\r\n     <g id=\"line2d_9\">\r\n      <g>\r\n       <use style=\"stroke:#000000;stroke-width:0.8;\" x=\"351.598386\" xlink:href=\"#md51aabe7d1\" y=\"224.64\"/>\r\n      </g>\r\n     </g>\r\n     <g id=\"text_9\">\r\n      <!-- 10.0 -->\r\n      <g transform=\"translate(340.465573 239.238437)scale(0.1 -0.1)\">\r\n       <use xlink:href=\"#DejaVuSans-31\"/>\r\n       <use x=\"63.623047\" xlink:href=\"#DejaVuSans-30\"/>\r\n       <use x=\"127.246094\" xlink:href=\"#DejaVuSans-2e\"/>\r\n       <use x=\"159.033203\" xlink:href=\"#DejaVuSans-30\"/>\r\n      </g>\r\n     </g>\r\n    </g>\r\n   </g>\r\n   <g id=\"matplotlib.axis_2\">\r\n    <g id=\"ytick_1\">\r\n     <g id=\"line2d_10\">\r\n      <defs>\r\n       <path d=\"M 0 0 \r\nL -3.5 0 \r\n\" id=\"m900d7f7a6e\" style=\"stroke:#000000;stroke-width:0.8;\"/>\r\n      </defs>\r\n      <g>\r\n       <use style=\"stroke:#000000;stroke-width:0.8;\" x=\"28.942188\" xlink:href=\"#m900d7f7a6e\" y=\"200.793869\"/>\r\n      </g>\r\n     </g>\r\n     <g id=\"text_10\">\r\n      <!-- −2 -->\r\n      <g transform=\"translate(7.2 204.593087)scale(0.1 -0.1)\">\r\n       <use xlink:href=\"#DejaVuSans-2212\"/>\r\n       <use x=\"83.789062\" xlink:href=\"#DejaVuSans-32\"/>\r\n      </g>\r\n     </g>\r\n    </g>\r\n    <g id=\"ytick_2\">\r\n     <g id=\"line2d_11\">\r\n      <g>\r\n       <use style=\"stroke:#000000;stroke-width:0.8;\" x=\"28.942188\" xlink:href=\"#m900d7f7a6e\" y=\"155.683224\"/>\r\n      </g>\r\n     </g>\r\n     <g id=\"text_11\">\r\n      <!-- −1 -->\r\n      <g transform=\"translate(7.2 159.482443)scale(0.1 -0.1)\">\r\n       <use xlink:href=\"#DejaVuSans-2212\"/>\r\n       <use x=\"83.789062\" xlink:href=\"#DejaVuSans-31\"/>\r\n      </g>\r\n     </g>\r\n    </g>\r\n    <g id=\"ytick_3\">\r\n     <g id=\"line2d_12\">\r\n      <g>\r\n       <use style=\"stroke:#000000;stroke-width:0.8;\" x=\"28.942188\" xlink:href=\"#m900d7f7a6e\" y=\"110.572579\"/>\r\n      </g>\r\n     </g>\r\n     <g id=\"text_12\">\r\n      <!-- 0 -->\r\n      <g transform=\"translate(15.579688 114.371798)scale(0.1 -0.1)\">\r\n       <use xlink:href=\"#DejaVuSans-30\"/>\r\n      </g>\r\n     </g>\r\n    </g>\r\n    <g id=\"ytick_4\">\r\n     <g id=\"line2d_13\">\r\n      <g>\r\n       <use style=\"stroke:#000000;stroke-width:0.8;\" x=\"28.942188\" xlink:href=\"#m900d7f7a6e\" y=\"65.461935\"/>\r\n      </g>\r\n     </g>\r\n     <g id=\"text_13\">\r\n      <!-- 1 -->\r\n      <g transform=\"translate(15.579688 69.261154)scale(0.1 -0.1)\">\r\n       <use xlink:href=\"#DejaVuSans-31\"/>\r\n      </g>\r\n     </g>\r\n    </g>\r\n    <g id=\"ytick_5\">\r\n     <g id=\"line2d_14\">\r\n      <g>\r\n       <use style=\"stroke:#000000;stroke-width:0.8;\" x=\"28.942188\" xlink:href=\"#m900d7f7a6e\" y=\"20.35129\"/>\r\n      </g>\r\n     </g>\r\n     <g id=\"text_14\">\r\n      <!-- 2 -->\r\n      <g transform=\"translate(15.579688 24.150509)scale(0.1 -0.1)\">\r\n       <use xlink:href=\"#DejaVuSans-32\"/>\r\n      </g>\r\n     </g>\r\n    </g>\r\n   </g>\r\n   <g id=\"patch_3\">\r\n    <path d=\"M 28.942188 224.64 \r\nL 28.942188 7.2 \r\n\" style=\"fill:none;stroke:#000000;stroke-linecap:square;stroke-linejoin:miter;stroke-width:0.8;\"/>\r\n   </g>\r\n   <g id=\"patch_4\">\r\n    <path d=\"M 363.742188 224.64 \r\nL 363.742188 7.2 \r\n\" style=\"fill:none;stroke:#000000;stroke-linecap:square;stroke-linejoin:miter;stroke-width:0.8;\"/>\r\n   </g>\r\n   <g id=\"patch_5\">\r\n    <path d=\"M 28.942188 224.64 \r\nL 363.742188 224.64 \r\n\" style=\"fill:none;stroke:#000000;stroke-linecap:square;stroke-linejoin:miter;stroke-width:0.8;\"/>\r\n   </g>\r\n   <g id=\"patch_6\">\r\n    <path d=\"M 28.942188 7.2 \r\nL 363.742188 7.2 \r\n\" style=\"fill:none;stroke:#000000;stroke-linecap:square;stroke-linejoin:miter;stroke-width:0.8;\"/>\r\n   </g>\r\n  </g>\r\n </g>\r\n <defs>\r\n  <clipPath id=\"p2ca64a5db4\">\r\n   <rect height=\"217.44\" width=\"334.8\" x=\"28.942188\" y=\"7.2\"/>\r\n  </clipPath>\r\n </defs>\r\n</svg>\r\n",
      "image/png": "[encoded data removed]"
     },
     "metadata": {
      "needs_background": "light"
     }
    }
   ],
   "source": [
    "x,y = data_generator(func=sinus)\n",
    "sns.scatterplot(x=x,y=y)"
   ]
  },
  {
   "cell_type": "code",
   "execution_count": 284,
   "metadata": {},
   "outputs": [],
   "source": [
    "from sklearn.model_selection import train_test_split\n",
    "\n",
    "x_train, x_test,y_train,y_test = train_test_split(x,y,test_size=0.2)\n",
    "\n",
    "poly_x_train = [[x**3,x**2,x,1] for x in x_train]\n",
    "poly_x_test = [[x**3,x**2,x,1] for x in x_test]"
   ]
  },
  {
   "cell_type": "code",
   "execution_count": 285,
   "metadata": {},
   "outputs": [
    {
     "output_type": "execute_result",
     "data": {
      "text/plain": [
       "[[0.9999999999998828, 0.9999999999999218, 0.9999999999999609, 1],\n",
       " [-216.00000000000153, 36.00000000000017, -6.000000000000014, 1],\n",
       " [7.999999999999488, 3.9999999999998295, 1.9999999999999574, 1],\n",
       " [124.999999999996, 24.999999999999467, 4.999999999999947, 1],\n",
       " [-46.65600000000089, 12.960000000000164, -3.6000000000000227, 1],\n",
       " [-195.1120000000015, 33.64000000000017, -5.800000000000015, 1],\n",
       " [215.99999999999386, 35.99999999999932, 5.999999999999943, 1],\n",
       " [-0.21600000000003608, 0.36000000000004007, -0.6000000000000334, 1],\n",
       " [-438.9760000000015, 57.76000000000013, -7.6000000000000085, 1],\n",
       " [13.82399999999924, 5.759999999999788, 2.399999999999956, 1],\n",
       " [-729.0000000000009, 81.00000000000007, -9.000000000000004, 1],\n",
       " [-39.30400000000081, 11.560000000000159, -3.4000000000000234, 1],\n",
       " [-85.18400000000115, 19.360000000000174, -4.40000000000002, 1],\n",
       " [-373.2480000000015, 51.840000000000146, -7.20000000000001, 1],\n",
       " [32.76799999999856, 10.2399999999997, 3.199999999999953, 1],\n",
       " [-343.0000000000016, 49.00000000000015, -7.000000000000011, 1],\n",
       " [110.59199999999636, 23.039999999999495, 4.799999999999947, 1],\n",
       " [342.99999999999113, 48.999999999999154, 6.99999999999994, 1],\n",
       " [-8.000000000000341, 4.000000000000114, -2.0000000000000284, 1],\n",
       " [-405.2240000000015, 54.76000000000014, -7.400000000000009, 1],\n",
       " [0.007999999999995651, 0.039999999999985505, 0.19999999999996376, 1],\n",
       " [-512.0000000000014, 64.00000000000011, -8.000000000000007, 1],\n",
       " [-32.76800000000074, 10.240000000000155, -3.200000000000024, 1],\n",
       " [373.2479999999905, 51.83999999999912, 7.199999999999939, 1],\n",
       " [-64.00000000000102, 16.00000000000017, -4.000000000000021, 1],\n",
       " [238.32799999999335, 38.43999999999929, 6.1999999999999424, 1],\n",
       " [-941.1920000000002, 96.04000000000002, -9.8, 1],\n",
       " [157.46399999999522, 29.15999999999941, 5.399999999999945, 1],\n",
       " [-4.096000000000229, 2.5600000000000955, -1.6000000000000298, 1],\n",
       " [-5.832000000000283, 3.240000000000105, -1.8000000000000291, 1],\n",
       " [140.60799999999563, 27.039999999999438, 5.199999999999946, 1],\n",
       " [2.7439999999997617, 1.9599999999998865, 1.3999999999999595, 1],\n",
       " [-13.824000000000467, 5.7600000000001295, -2.400000000000027, 1],\n",
       " [10.64799999999937, 4.839999999999809, 2.1999999999999567, 1],\n",
       " [195.11199999999434, 33.63999999999935, 5.799999999999944, 1],\n",
       " [17.57599999999909, 6.759999999999767, 2.5999999999999552, 1],\n",
       " [511.9999999999877, 63.99999999999898, 7.999999999999936, 1],\n",
       " [-1000.0, 100.0, -10.0, 1],\n",
       " [-636.0560000000011, 73.96000000000008, -8.600000000000005, 1],\n",
       " [0.06399999999998227, 0.15999999999997044, 0.39999999999996305, 1],\n",
       " [551.367999999987, 67.23999999999894, 8.199999999999935, 1],\n",
       " [-884.7360000000004, 92.16000000000003, -9.600000000000001, 1],\n",
       " [85.18399999999703, 19.35999999999955, 4.399999999999949, 1],\n",
       " [287.4959999999923, 43.55999999999922, 6.599999999999941, 1],\n",
       " [728.9999999999836, 80.99999999999878, 8.999999999999932, 1],\n",
       " [-287.4960000000016, 43.56000000000016, -6.600000000000012, 1],\n",
       " [-0.5120000000000627, 0.6400000000000523, -0.8000000000000327, 1],\n",
       " [74.08799999999734, 17.639999999999578, 4.1999999999999496, 1],\n",
       " [681.4719999999845, 77.43999999999882, 8.799999999999933, 1],\n",
       " [-97.33600000000122, 21.160000000000178, -4.600000000000019, 1],\n",
       " [97.3359999999967, 21.159999999999524, 4.599999999999948, 1],\n",
       " [262.14399999999284, 40.959999999999255, 6.399999999999942, 1],\n",
       " [-140.6080000000014, 27.040000000000177, -5.200000000000017, 1],\n",
       " [-1.000000000000096, 1.000000000000064, -1.000000000000032, 1],\n",
       " [54.871999999997875, 14.439999999999628, 3.799999999999951, 1],\n",
       " [636.0559999999854, 73.95999999999886, 8.599999999999934, 1],\n",
       " [-4.4841550858394146e-41, 1.2621774483536189e-27, -3.552713678800501e-14, 1],\n",
       " [405.22399999998987, 54.75999999999909, 7.399999999999938, 1],\n",
       " [0.21599999999995934, 0.3599999999999548, 0.5999999999999623, 1],\n",
       " [-110.59200000000128, 23.040000000000177, -4.8000000000000185, 1],\n",
       " [1.7279999999998281, 1.4399999999999045, 1.1999999999999602, 1],\n",
       " [-10.648000000000403, 4.8400000000001215, -2.2000000000000277, 1],\n",
       " [-262.1440000000016, 40.960000000000164, -6.400000000000013, 1],\n",
       " [-0.06400000000001638, 0.1600000000000273, -0.4000000000000341, 1],\n",
       " [-314.43200000000155, 46.24000000000015, -6.800000000000011, 1],\n",
       " [-1.728000000000135, 1.440000000000075, -1.2000000000000313, 1],\n",
       " [-830.5840000000005, 88.36000000000004, -9.400000000000002, 1],\n",
       " [-125.00000000000134, 25.000000000000178, -5.000000000000018, 1],\n",
       " [39.30399999999835, 11.559999999999675, 3.3999999999999524, 1],\n",
       " [-0.008000000000004177, 0.04000000000001393, -0.20000000000003482, 1],\n",
       " [778.6879999999827, 84.63999999999875, 9.199999999999932, 1],\n",
       " [-551.3680000000013, 67.24000000000011, -8.200000000000006, 1],\n",
       " [941.1919999999798, 96.03999999999863, 9.79999999999993, 1],\n",
       " [592.7039999999862, 70.55999999999891, 8.399999999999935, 1],\n",
       " [-17.576000000000533, 6.760000000000137, -2.6000000000000263, 1],\n",
       " [21.95199999999893, 7.839999999999745, 2.7999999999999545, 1],\n",
       " [-21.952000000000602, 7.840000000000143, -2.8000000000000256, 1],\n",
       " [-474.55200000000144, 60.840000000000124, -7.800000000000008, 1],\n",
       " [63.99999999999761, 15.999999999999602, 3.9999999999999503, 1],\n",
       " [884.7359999999808, 92.15999999999866, 9.59999999999993, 1]]"
      ]
     },
     "metadata": {},
     "execution_count": 285
    }
   ],
   "source": [
    "poly_x_train"
   ]
  },
  {
   "cell_type": "code",
   "execution_count": 286,
   "metadata": {},
   "outputs": [],
   "source": [
    "weights = np.array([0,0,0,0],dtype=\"float64\")\n",
    "alpha = 0.01\n",
    "epochs = 2"
   ]
  },
  {
   "cell_type": "code",
   "execution_count": 287,
   "metadata": {
    "tags": []
   },
   "outputs": [
    {
     "output_type": "stream",
     "name": "stdout",
     "text": [
      "Optimization: [ 2.78437407e+07 -6.50263314e+05  3.85072156e+05 -8.15318358e+03]\nWeights [ 2.19159946e+00  6.75968162e-03  2.85168547e-02 -1.87407059e-03]\nEpoch 0 finished\nOptimization: [ 2.78437407e+07 -6.50263314e+05  3.85072156e+05 -8.15318358e+03]\nWeights [-6.30929856e+03  3.61459578e+01 -8.75397617e+01  2.85111234e-01]\nEpoch 1 finished\nOptimization: [ 2.78437407e+07 -6.50263314e+05  3.85072156e+05 -8.15318358e+03]\nWeights [ 1.81710118e+07 -1.06203354e+05  2.52102061e+05 -8.67990734e+02]\nEpoch 2 finished\nOptimization: [ 2.78437407e+07 -6.50263314e+05  3.85072156e+05 -8.15318358e+03]\nWeights [-5.23332101e+10  3.05951497e+08 -7.26063408e+08  2.50118436e+06]\nEpoch 3 finished\nOptimization: [ 2.78437407e+07 -6.50263314e+05  3.85072156e+05 -8.15318358e+03]\nWeights [ 1.50721651e+14 -8.81155217e+11  2.09109044e+12 -7.20355955e+09]\nEpoch 4 finished\n"
     ]
    }
   ],
   "source": [
    "for epoch in range(5):\n",
    "    opt = np.array([0,0,0,0],dtype=\"float64\")\n",
    "    for i,dp in enumerate(poly_x_train):\n",
    "        opt += np.array(dp)*(np.dot(weights.T,dp)-y_train[i])\n",
    "\n",
    "    weights -= ((alpha*2)*opt)/len(poly_x_train)\n",
    "    print(\"Optimization:\", opt)\n",
    "    print(\"Weights\",weights)\n",
    "\n",
    "    print(f\"Epoch {epoch} finished\")\n",
    "\n"
   ]
  },
  {
   "cell_type": "code",
   "execution_count": 288,
   "metadata": {},
   "outputs": [
    {
     "output_type": "execute_result",
     "data": {
      "text/plain": [
       "array([ 1.50721651e+14, -8.81155217e+11,  2.09109044e+12, -7.20355955e+09])"
      ]
     },
     "metadata": {},
     "execution_count": 288
    }
   ],
   "source": [
    "weights"
   ]
  },
  {
   "cell_type": "code",
   "execution_count": null,
   "metadata": {},
   "outputs": [],
   "source": []
  }
 ]
}